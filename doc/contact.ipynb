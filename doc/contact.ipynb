{
 "cells": [
  {
   "cell_type": "code",
   "execution_count": 1,
   "metadata": {},
   "outputs": [],
   "source": [
    "import getfem as gf\n",
    "import numpy as np"
   ]
  },
  {
   "cell_type": "code",
   "execution_count": 2,
   "metadata": {},
   "outputs": [],
   "source": [
    "E = 1000.0  # N/mm2\n",
    "A = 1.0  # mm2\n",
    "l = 1.0  # mm\n",
    "P = 20.0  # N\n",
    "g = 0.01  # mm\n",
    "elements_degree = 1\n",
    "p = 1000"
   ]
  },
  {
   "cell_type": "code",
   "execution_count": 3,
   "metadata": {},
   "outputs": [],
   "source": [
    "mesh1 = gf.Mesh(\"cartesian\", np.array([0.0, 1.0 * l, 2.0 * l, 3.0 * l]))\n",
    "mesh2 = gf.Mesh(\"cartesian\", np.array([[3.0 * l, 3.0 * l + l]]))\n",
    "# mesh2 = gf.Mesh(\"cartesian\", np.array([[3.0 * l + g, 3.0 * l + g + l]]))"
   ]
  },
  {
   "cell_type": "code",
   "execution_count": 4,
   "metadata": {},
   "outputs": [],
   "source": [
    "fb1 = mesh1.outer_faces_with_direction([-1.0], 0.01)\n",
    "fb2 = mesh2.outer_faces_with_direction([-1.0], 0.01)\n",
    "fb3 = mesh1.outer_faces_with_direction([1.0], 0.01)\n",
    "fb4 = mesh2.outer_faces_with_direction([1.0], 0.01)\n",
    "\n",
    "LEFT_BOUND = 1\n",
    "RIGHT_BOUND = 2\n",
    "\n",
    "mesh1.set_region(LEFT_BOUND, fb1)\n",
    "mesh2.set_region(LEFT_BOUND, fb2)\n",
    "mesh1.set_region(RIGHT_BOUND, fb3)\n",
    "mesh2.set_region(RIGHT_BOUND, fb4)"
   ]
  },
  {
   "cell_type": "code",
   "execution_count": 5,
   "metadata": {},
   "outputs": [],
   "source": [
    "mfu1 = gf.MeshFem(mesh1, 1)\n",
    "mfu2 = gf.MeshFem(mesh2, 1)\n",
    "mfu1.set_classical_fem(elements_degree)\n",
    "mfu2.set_classical_fem(elements_degree)\n",
    "mim1 = gf.MeshIm(mesh1, pow(elements_degree, 2))\n",
    "mim2 = gf.MeshIm(mesh2, pow(elements_degree, 2))"
   ]
  },
  {
   "cell_type": "code",
   "execution_count": 6,
   "metadata": {},
   "outputs": [],
   "source": [
    "md = gf.Model(\"real\")\n",
    "md.add_fem_variable(\"u1\", mfu1) # Displacement of the structure 1\n",
    "md.add_fem_variable(\"u2\", mfu2) # Displacement of the structure 2"
   ]
  },
  {
   "cell_type": "code",
   "execution_count": 7,
   "metadata": {},
   "outputs": [
    {
     "data": {
      "text/plain": [
       "2"
      ]
     },
     "execution_count": 7,
     "metadata": {},
     "output_type": "execute_result"
    }
   ],
   "source": [
    "md.add_initialized_data(\"EA\", [E*A])\n",
    "md.add_nonlinear_term(mim1, \"EA*Grad_u1.Grad_Test_u1\")\n",
    "md.add_nonlinear_term(mim2, \"2.0*EA*Grad_u2.Grad_Test_u2\")\n",
    "\n",
    "F = np.array([0.0, 0.0, 1.0, 0.0])\n",
    "md.add_explicit_rhs(\"u1\", F)"
   ]
  },
  {
   "cell_type": "code",
   "execution_count": 8,
   "metadata": {},
   "outputs": [
    {
     "data": {
      "text/plain": [
       "4"
      ]
     },
     "execution_count": 8,
     "metadata": {},
     "output_type": "execute_result"
    }
   ],
   "source": [
    "md.add_initialized_data(\"r1\", [0.0])\n",
    "md.add_initialized_data(\"H1\", [[1.0]])\n",
    "md.add_initialized_data(\"r2\", [0.0])\n",
    "md.add_initialized_data(\"H2\", [[1.0]])\n",
    "md.add_generalized_Dirichlet_condition_with_multipliers(\n",
    "    mim1, \"u1\", mfu1, LEFT_BOUND, \"r1\", \"H1\"\n",
    ")\n",
    "md.add_generalized_Dirichlet_condition_with_multipliers(\n",
    "    mim2, \"u2\", mfu2, RIGHT_BOUND, \"r2\", \"H2\"\n",
    ")"
   ]
  },
  {
   "cell_type": "code",
   "execution_count": 9,
   "metadata": {},
   "outputs": [
    {
     "data": {
      "text/plain": [
       "5"
      ]
     },
     "execution_count": 9,
     "metadata": {},
     "output_type": "execute_result"
    }
   ],
   "source": [
    "# md.add_initialized_data(\"n\", [1.0])\n",
    "md.add_initialized_data(\"r\", [p])\n",
    "# BN1 = gf.Spmat(\"empty\",2,2)\n",
    "# BN1[0, 0] = 1.0\n",
    "# BN1[0, 1] = -1.0\n",
    "# BN1[1, 0] = -1.0\n",
    "# BN1[1, 1] = 1.0\n",
    "# BN2 = gf.Spmat(\"empty\",2,2)\n",
    "# BN2[0, 0] = 1.0\n",
    "# BN2[0, 1] = -1.0\n",
    "# BN2[1, 0] = -1.0\n",
    "# BN2[1, 1] = 1.0\n",
    "# md.add_basic_contact_brick_two_deformable_bodies(\"u1\", \"u2\", \"n\", \"r\", BN1, BN2)\n",
    "md.add_penalized_contact_between_nonmatching_meshes_brick(mim1, \"u1\", \"u2\", \"r\", RIGHT_BOUND, LEFT_BOUND)"
   ]
  },
  {
   "cell_type": "code",
   "execution_count": 10,
   "metadata": {},
   "outputs": [
    {
     "name": "stdout",
     "output_type": "stream",
     "text": [
      "[[ 0.e+00  0.e+00  1.e+00  0.e+00  0.e+00  0.e+00  0.e+00  0.e+00]\n",
      " [ 0.e+00  0.e+00  0.e+00  0.e+00  0.e+00  0.e+00  0.e+00  1.e+00]\n",
      " [ 1.e+00  0.e+00  1.e+03 -1.e+03  0.e+00  0.e+00  0.e+00  0.e+00]\n",
      " [ 0.e+00  0.e+00 -1.e+03  2.e+03 -1.e+03  0.e+00  0.e+00  0.e+00]\n",
      " [ 0.e+00  0.e+00  0.e+00 -1.e+03  2.e+03 -1.e+03  0.e+00  0.e+00]\n",
      " [ 0.e+00  0.e+00  0.e+00  0.e+00 -1.e+03  2.e+03 -1.e+03  0.e+00]\n",
      " [ 0.e+00  0.e+00  0.e+00  0.e+00  0.e+00 -1.e+03  3.e+03 -2.e+03]\n",
      " [ 0.e+00  1.e+00  0.e+00  0.e+00  0.e+00  0.e+00 -2.e+03  2.e+03]]\n"
     ]
    }
   ],
   "source": [
    "md.assembly(\"build_all\")\n",
    "SM = md.tangent_matrix()\n",
    "print(SM.full())"
   ]
  },
  {
   "cell_type": "code",
   "execution_count": 11,
   "metadata": {},
   "outputs": [
    {
     "name": "stdout",
     "output_type": "stream",
     "text": [
      "[0. 0. 0. 0. 1. 0. 0. 0.]\n"
     ]
    }
   ],
   "source": [
    "rhs = md.rhs()\n",
    "print(rhs)"
   ]
  },
  {
   "cell_type": "code",
   "execution_count": 12,
   "metadata": {},
   "outputs": [
    {
     "data": {
      "text/plain": [
       "(1, 1)"
      ]
     },
     "execution_count": 12,
     "metadata": {},
     "output_type": "execute_result"
    }
   ],
   "source": [
    "md.solve()"
   ]
  },
  {
   "cell_type": "code",
   "execution_count": 13,
   "metadata": {},
   "outputs": [
    {
     "name": "stdout",
     "output_type": "stream",
     "text": [
      "[0.         0.00055556 0.00111111 0.00066667]\n"
     ]
    }
   ],
   "source": [
    "U1 = md.variable(\"u1\")\n",
    "print(U1)"
   ]
  },
  {
   "cell_type": "code",
   "execution_count": 14,
   "metadata": {},
   "outputs": [
    {
     "name": "stdout",
     "output_type": "stream",
     "text": [
      "[ 2.22222222e-04 -2.98744089e-20]\n"
     ]
    }
   ],
   "source": [
    "U2 = md.variable(\"u2\")\n",
    "print(U2)"
   ]
  },
  {
   "cell_type": "code",
   "execution_count": null,
   "metadata": {},
   "outputs": [],
   "source": []
  }
 ],
 "metadata": {
  "kernelspec": {
   "display_name": "Python 3",
   "language": "python",
   "name": "python3"
  },
  "language_info": {
   "codemirror_mode": {
    "name": "ipython",
    "version": 3
   },
   "file_extension": ".py",
   "mimetype": "text/x-python",
   "name": "python",
   "nbconvert_exporter": "python",
   "pygments_lexer": "ipython3",
   "version": "3.8.5"
  }
 },
 "nbformat": 4,
 "nbformat_minor": 4
}
